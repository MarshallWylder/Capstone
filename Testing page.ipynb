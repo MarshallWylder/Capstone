{
 "cells": [
  {
   "cell_type": "code",
   "execution_count": 1,
   "metadata": {
    "ExecuteTime": {
     "end_time": "2022-05-25T19:12:57.515215Z",
     "start_time": "2022-05-25T19:12:57.336782Z"
    }
   },
   "outputs": [],
   "source": [
    "from recipe_scrapers import scrape_me"
   ]
  },
  {
   "cell_type": "code",
   "execution_count": 2,
   "metadata": {
    "ExecuteTime": {
     "end_time": "2022-05-25T19:15:33.485238Z",
     "start_time": "2022-05-25T19:15:33.106013Z"
    }
   },
   "outputs": [],
   "source": [
    "scraper = scrape_me('https://www.bonappetit.com/recipe/summer-goddess-chicken-salad', wild_mode=True)"
   ]
  },
  {
   "cell_type": "code",
   "execution_count": 4,
   "metadata": {
    "ExecuteTime": {
     "end_time": "2022-05-25T19:15:48.470861Z",
     "start_time": "2022-05-25T19:15:48.457559Z"
    }
   },
   "outputs": [
    {
     "data": {
      "text/plain": [
       "['8 oz. green beans, trimmed, halved crosswise',\n",
       " 'Kosher salt',\n",
       " '1 ear of corn, kernels removed (about 1 cup)',\n",
       " '2 skin-on, bone-in chicken breasts (about 1½ lb.), split, or 2 skinless, boneless chicken breasts',\n",
       " '1 oil-packed anchovy fillet',\n",
       " '¼ avocado',\n",
       " '¼ cup extra-virgin olive oil',\n",
       " '2 Tbsp. sour cream',\n",
       " '1 tsp. finely grated lemon zest',\n",
       " '2 Tbsp. (or more) fresh lemon juice',\n",
       " '1½ tsp. red wine vinegar',\n",
       " '¾ cup finely chopped mixed tender herbs (such as basil, chives, parsley, mint, and/or chervil), divided, plus more for serving',\n",
       " 'Freshly ground black pepper',\n",
       " '¾ cup store-bought fried shallots, divided',\n",
       " '2 small heads of tender lettuce (such as Little Gem or Bibb), leaves separated, torn if large']"
      ]
     },
     "execution_count": 4,
     "metadata": {},
     "output_type": "execute_result"
    }
   ],
   "source": [
    "scraper.ingredients()"
   ]
  },
  {
   "cell_type": "code",
   "execution_count": 6,
   "metadata": {
    "ExecuteTime": {
     "end_time": "2022-05-25T19:16:42.479763Z",
     "start_time": "2022-05-25T19:16:42.466489Z"
    }
   },
   "outputs": [
    {
     "data": {
      "text/plain": [
       "'https://www.bonappetit.com/recipe/summer-goddess-chicken-salad'"
      ]
     },
     "execution_count": 6,
     "metadata": {},
     "output_type": "execute_result"
    }
   ],
   "source": [
    "scraper.canonical_url()"
   ]
  },
  {
   "cell_type": "code",
   "execution_count": null,
   "metadata": {},
   "outputs": [],
   "source": []
  }
 ],
 "metadata": {
  "kernelspec": {
   "display_name": "Python (learn-env)",
   "language": "python",
   "name": "learn-env"
  },
  "language_info": {
   "codemirror_mode": {
    "name": "ipython",
    "version": 3
   },
   "file_extension": ".py",
   "mimetype": "text/x-python",
   "name": "python",
   "nbconvert_exporter": "python",
   "pygments_lexer": "ipython3",
   "version": "3.8.5"
  },
  "varInspector": {
   "cols": {
    "lenName": 16,
    "lenType": 16,
    "lenVar": 40
   },
   "kernels_config": {
    "python": {
     "delete_cmd_postfix": "",
     "delete_cmd_prefix": "del ",
     "library": "var_list.py",
     "varRefreshCmd": "print(var_dic_list())"
    },
    "r": {
     "delete_cmd_postfix": ") ",
     "delete_cmd_prefix": "rm(",
     "library": "var_list.r",
     "varRefreshCmd": "cat(var_dic_list()) "
    }
   },
   "types_to_exclude": [
    "module",
    "function",
    "builtin_function_or_method",
    "instance",
    "_Feature"
   ],
   "window_display": false
  }
 },
 "nbformat": 4,
 "nbformat_minor": 4
}
