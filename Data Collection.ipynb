{
 "cells": [
  {
   "cell_type": "markdown",
   "metadata": {},
   "source": [
    "## Imports"
   ]
  },
  {
   "cell_type": "code",
   "execution_count": 1,
   "metadata": {
    "ExecuteTime": {
     "end_time": "2022-06-01T23:14:42.753574Z",
     "start_time": "2022-06-01T23:14:42.005730Z"
    }
   },
   "outputs": [],
   "source": [
    "#!pip install dill\n",
    "import pandas as pd\n",
    "from recipe_scrapers import scrape_me\n",
    "from nltk.tokenize import regexp_tokenize, word_tokenize, RegexpTokenizer\n",
    "import re\n",
    "import nltk\n",
    "from nltk.corpus import stopwords\n",
    "from nltk.corpus import wordnet\n",
    "from nltk import pos_tag\n",
    "import dill as pickle\n",
    "from sklearn.feature_extraction.text import CountVectorizer\n",
    "from sklearn.metrics.pairwise import cosine_similarity\n",
    "from wordcloud import WordCloud\n",
    "from sklearn.neighbors import NearestNeighbors"
   ]
  },
  {
   "cell_type": "markdown",
   "metadata": {},
   "source": [
    "## Functions"
   ]
  },
  {
   "cell_type": "code",
   "execution_count": 2,
   "metadata": {
    "ExecuteTime": {
     "end_time": "2022-06-01T23:14:43.622144Z",
     "start_time": "2022-06-01T23:14:43.619517Z"
    }
   },
   "outputs": [],
   "source": [
    "def get_wordnet_pos(treebank_tag):\n",
    "    '''\n",
    "    Translate nltk POS to wordnet tags\n",
    "    '''\n",
    "    if treebank_tag.startswith('J'):\n",
    "        return wordnet.ADJ\n",
    "    elif treebank_tag.startswith('V'):\n",
    "        return wordnet.VERB\n",
    "    elif treebank_tag.startswith('N'):\n",
    "        return wordnet.NOUN\n",
    "    elif treebank_tag.startswith('R'):\n",
    "        return wordnet.ADV\n",
    "    else:\n",
    "        return wordnet.NOUN"
   ]
  },
  {
   "cell_type": "code",
   "execution_count": 3,
   "metadata": {
    "ExecuteTime": {
     "end_time": "2022-06-01T23:14:43.635842Z",
     "start_time": "2022-06-01T23:14:43.632894Z"
    }
   },
   "outputs": [],
   "source": [
    "def ingredient_parcer(recipe):\n",
    "    \n",
    "    #recipe = ' '.join(recipe)\n",
    "    \n",
    "    recipe = recipe.lower()\n",
    "    \n",
    "    pattern = \"([a-zA-Z]+(?:'[a-z]+)?)\"\n",
    "    tokenizer = RegexpTokenizer(pattern)\n",
    "    recipe = tokenizer.tokenize(recipe)\n",
    "    \n",
    "    recipe_tagged = pos_tag(recipe)\n",
    "    recipe_tagged\n",
    "    \n",
    "    new_list = []\n",
    "    for i in recipe_tagged:\n",
    "        if i[1]== 'NN':\n",
    "            new_list.append(i)\n",
    "        elif i[1]== 'NNS':\n",
    "            new_list.append(i)\n",
    "#         elif i[1] == 'JJ':\n",
    "#             new_list.append(i)\n",
    "    \n",
    "    n_list = []\n",
    "    for i in new_list:\n",
    "        n_list.append(i[0])\n",
    "     \n",
    "    recipe = [token for token in n_list if token not in sw]\n",
    "    recipe = ' '.join(recipe)\n",
    "    return recipe"
   ]
  },
  {
   "cell_type": "code",
   "execution_count": 4,
   "metadata": {
    "ExecuteTime": {
     "end_time": "2022-06-01T23:14:44.279786Z",
     "start_time": "2022-06-01T23:14:44.269392Z"
    }
   },
   "outputs": [],
   "source": [
    "# with open('ingredients.pickle', 'wb') as recipes:\n",
    "#      pickle.dump(ingredients, recipes, pickle.HIGHEST_PROTOCOL)"
   ]
  },
  {
   "cell_type": "code",
   "execution_count": 5,
   "metadata": {
    "ExecuteTime": {
     "end_time": "2022-06-01T23:14:44.513859Z",
     "start_time": "2022-06-01T23:14:44.507225Z"
    }
   },
   "outputs": [],
   "source": [
    "# with open('recipe_names.pickle', 'wb') as urls:\n",
    "#      pickle.dump(recipe_names, urls, pickle.HIGHEST_PROTOCOL)"
   ]
  },
  {
   "cell_type": "markdown",
   "metadata": {},
   "source": [
    "### Load data"
   ]
  },
  {
   "cell_type": "code",
   "execution_count": 6,
   "metadata": {
    "ExecuteTime": {
     "end_time": "2022-06-01T23:14:45.336506Z",
     "start_time": "2022-06-01T23:14:45.294730Z"
    }
   },
   "outputs": [],
   "source": [
    "with open('ingredients.pickle', 'rb') as recipes:\n",
    "       ingredients = pickle.load(recipes)"
   ]
  },
  {
   "cell_type": "code",
   "execution_count": 7,
   "metadata": {
    "ExecuteTime": {
     "end_time": "2022-06-01T23:14:46.668616Z",
     "start_time": "2022-06-01T23:14:46.657631Z"
    }
   },
   "outputs": [],
   "source": [
    "with open('recipe_names.pickle', 'rb') as URL:\n",
    "       recipe_url = pickle.load(URL)"
   ]
  },
  {
   "cell_type": "code",
   "execution_count": 8,
   "metadata": {
    "ExecuteTime": {
     "end_time": "2022-06-01T23:14:54.268772Z",
     "start_time": "2022-06-01T23:14:54.264483Z"
    }
   },
   "outputs": [],
   "source": [
    "# ingredients = []\n",
    "# recipe_names = []\n",
    "# for i in list(range(101, 1023174)):\n",
    "#     scraper = scrape_me(f'https://cooking.nytimes.com/recipes/{i}')\n",
    "#     ingredients.append(scraper.ingredients())\n",
    "#     recipe_names.append(scraper.canonical_url())"
   ]
  },
  {
   "cell_type": "code",
   "execution_count": 9,
   "metadata": {
    "ExecuteTime": {
     "end_time": "2022-06-01T23:14:54.578667Z",
     "start_time": "2022-06-01T23:14:54.571785Z"
    }
   },
   "outputs": [
    {
     "data": {
      "text/plain": [
       "[['1 1/2 pounds new potatoes (2 cups squeezed)',\n",
       "  '8 ounces onion ( 1/2 cup squeezed)',\n",
       "  '3 egg whites',\n",
       "  '2 tablespoons flour',\n",
       "  '5 tablespoons grated Parmigiano Reggiano cheese (2 ounces)',\n",
       "  '1/8 teaspoon salt',\n",
       "  'Freshly ground black pepper to taste',\n",
       "  'Oil spray'],\n",
       " ['1 1/2 pounds zucchini',\n",
       "  '8 ounces onion ( 1/2 cup squeezed)',\n",
       "  '3 tablespoons flour',\n",
       "  '4 egg whites',\n",
       "  '1/2 teaspoon dried thyme leaves',\n",
       "  '1/4 teaspoon salt',\n",
       "  'Freshly ground black pepper to taste'],\n",
       " ['Butter for greasing a pan',\n",
       "  'Salt to taste if desired',\n",
       "  'Freshly ground pepper to taste',\n",
       "  '4 flounder fillets, about 1 1/4 pounds',\n",
       "  '1 tablespoon plus 1/3 cup dry white wine',\n",
       "  '2 cups parsley leaves, stems removed, loosely packed',\n",
       "  '2 tablespoons finely chopped shallots',\n",
       "  '1/3 cup heavy cream',\n",
       "  '1 teaspoon Dijon-style mustard'],\n",
       " ['2 large cucumbers, about 1 1/4 pounds',\n",
       "  '2 carrots, about 1/2 pound',\n",
       "  '2 tablespoons butter',\n",
       "  '1 tablespoon finely chopped shallots',\n",
       "  'Salt to taste if desired',\n",
       "  'Freshly ground pepper to taste',\n",
       "  '1/4 teaspoon ground cumin'],\n",
       " ['2 packed cups mixed greens of fresh fennel fronds, dillweed and a few ground fennel seeds - use 1 bushy bulb fennel top with 1 bunch fresh dillweed - (see notes)',\n",
       "  'Coarse (kosher) salt',\n",
       "  '2 tablespoons currants',\n",
       "  '1 piece sun-dried tomato, cut into small bits, optional',\n",
       "  '2 pinches pulverized saffron in 1/4-cup hot water',\n",
       "  '6 tablespoons olive oil',\n",
       "  '1/2 cup finely chopped onions',\n",
       "  '7 anchovy fillets, drained, rinsed and cut up',\n",
       "  '2 tablespoons pine nuts',\n",
       "  '1/4 teaspoon powdered fennel seed',\n",
       "  '2 4-ounce cans boneless sardines packed in olive oil, preferably Italian, French or Portuguese. or 12 fresh sardines (see notes)',\n",
       "  'Freshly ground pepper',\n",
       "  '1/2 pound hollow spaghetti, maccheroncini, bucatini or perciatelli']]"
      ]
     },
     "execution_count": 9,
     "metadata": {},
     "output_type": "execute_result"
    }
   ],
   "source": [
    "ingredients[0:5]"
   ]
  },
  {
   "cell_type": "code",
   "execution_count": 10,
   "metadata": {
    "ExecuteTime": {
     "end_time": "2022-06-01T23:14:58.033510Z",
     "start_time": "2022-06-01T23:14:58.023009Z"
    }
   },
   "outputs": [
    {
     "data": {
      "text/plain": [
       "9021"
      ]
     },
     "execution_count": 10,
     "metadata": {},
     "output_type": "execute_result"
    }
   ],
   "source": [
    "len(ingredients)"
   ]
  },
  {
   "cell_type": "markdown",
   "metadata": {},
   "source": [
    "### Putting data together"
   ]
  },
  {
   "cell_type": "code",
   "execution_count": 11,
   "metadata": {
    "ExecuteTime": {
     "end_time": "2022-06-01T23:14:59.653833Z",
     "start_time": "2022-06-01T23:14:59.637971Z"
    }
   },
   "outputs": [
    {
     "data": {
      "text/plain": [
       "'Potato Cheese Pancakes'"
      ]
     },
     "execution_count": 11,
     "metadata": {},
     "output_type": "execute_result"
    }
   ],
   "source": [
    "recipe_url[0][41:].replace('-',' ').title() # needs to be parsed out"
   ]
  },
  {
   "cell_type": "code",
   "execution_count": 12,
   "metadata": {
    "ExecuteTime": {
     "end_time": "2022-06-01T23:15:00.273740Z",
     "start_time": "2022-06-01T23:15:00.255999Z"
    }
   },
   "outputs": [
    {
     "data": {
      "text/plain": [
       "['potato-cheese-pancakes',\n",
       " 'zucchini-pancakes',\n",
       " 'fillets-of-flounder-with-parsley-and-mustard-sauce',\n",
       " 'cucumbers-and-carrots',\n",
       " 'pasta-with-fennel-and-sardines']"
      ]
     },
     "execution_count": 12,
     "metadata": {},
     "output_type": "execute_result"
    }
   ],
   "source": [
    "recipe_name = []\n",
    "for i in recipe_url:\n",
    "    recipe_name.append(i[41:])\n",
    "recipe_name[0:5]    "
   ]
  },
  {
   "cell_type": "code",
   "execution_count": 13,
   "metadata": {
    "ExecuteTime": {
     "end_time": "2022-06-01T23:15:00.551209Z",
     "start_time": "2022-06-01T23:15:00.539682Z"
    }
   },
   "outputs": [
    {
     "data": {
      "text/plain": [
       "['Potato Cheese Pancakes',\n",
       " 'Zucchini Pancakes',\n",
       " 'Fillets Of Flounder With Parsley And Mustard Sauce',\n",
       " 'Cucumbers And Carrots',\n",
       " 'Pasta With Fennel And Sardines']"
      ]
     },
     "execution_count": 13,
     "metadata": {},
     "output_type": "execute_result"
    }
   ],
   "source": [
    "Titles = []\n",
    "for i in recipe_name:\n",
    "    Titles.append(i.replace('-',' ').title())\n",
    "    \n",
    "Titles[0:5]   "
   ]
  },
  {
   "cell_type": "code",
   "execution_count": 14,
   "metadata": {
    "ExecuteTime": {
     "end_time": "2022-06-01T23:15:01.360074Z",
     "start_time": "2022-06-01T23:15:01.343322Z"
    }
   },
   "outputs": [],
   "source": [
    "urls = pd.DataFrame(recipe_url)\n",
    "urls.columns = ['URL']"
   ]
  },
  {
   "cell_type": "code",
   "execution_count": 15,
   "metadata": {
    "ExecuteTime": {
     "end_time": "2022-06-01T23:15:01.734591Z",
     "start_time": "2022-06-01T23:15:01.721725Z"
    }
   },
   "outputs": [],
   "source": [
    "titles = pd.DataFrame(Titles)\n",
    "titles.columns= ['Titles']"
   ]
  },
  {
   "cell_type": "markdown",
   "metadata": {},
   "source": [
    "Looking at the ingredient list"
   ]
  },
  {
   "cell_type": "code",
   "execution_count": 16,
   "metadata": {
    "ExecuteTime": {
     "end_time": "2022-06-01T23:15:02.197854Z",
     "start_time": "2022-06-01T23:15:02.187919Z"
    }
   },
   "outputs": [
    {
     "data": {
      "text/plain": [
       "['1 1/2 pounds new potatoes (2 cups squeezed)',\n",
       " '8 ounces onion ( 1/2 cup squeezed)',\n",
       " '3 egg whites',\n",
       " '2 tablespoons flour',\n",
       " '5 tablespoons grated Parmigiano Reggiano cheese (2 ounces)',\n",
       " '1/8 teaspoon salt',\n",
       " 'Freshly ground black pepper to taste',\n",
       " 'Oil spray']"
      ]
     },
     "execution_count": 16,
     "metadata": {},
     "output_type": "execute_result"
    }
   ],
   "source": [
    "sample_recipe = ingredients[0]\n",
    "sample_recipe"
   ]
  },
  {
   "cell_type": "markdown",
   "metadata": {},
   "source": [
    "The ingredients are a list of strings. I think parcing out the important information will be easier if I join the strings into one string to avoid an imbedded for loop.\n"
   ]
  },
  {
   "cell_type": "code",
   "execution_count": 17,
   "metadata": {
    "ExecuteTime": {
     "end_time": "2022-06-01T23:15:06.376611Z",
     "start_time": "2022-06-01T23:15:06.358384Z"
    }
   },
   "outputs": [
    {
     "data": {
      "text/plain": [
       "'1 1/2 pounds new potatoes (2 cups squeezed) 8 ounces onion ( 1/2 cup squeezed) 3 egg whites 2 tablespoons flour 5 tablespoons grated Parmigiano Reggiano cheese (2 ounces) 1/8 teaspoon salt Freshly ground black pepper to taste Oil spray'"
      ]
     },
     "execution_count": 17,
     "metadata": {},
     "output_type": "execute_result"
    }
   ],
   "source": [
    "sample_recipe = ' '.join(ingredients[0])\n",
    "sample_recipe"
   ]
  },
  {
   "cell_type": "code",
   "execution_count": 18,
   "metadata": {
    "ExecuteTime": {
     "end_time": "2022-06-01T23:15:06.614554Z",
     "start_time": "2022-06-01T23:15:06.608120Z"
    }
   },
   "outputs": [],
   "source": [
    "test_list = []\n",
    "for sublist in ingredients:\n",
    "    sample = ' '.join(sublist)\n",
    "    test_list.append(sample)"
   ]
  },
  {
   "cell_type": "code",
   "execution_count": 19,
   "metadata": {
    "ExecuteTime": {
     "end_time": "2022-06-01T23:15:07.024343Z",
     "start_time": "2022-06-01T23:15:07.003082Z"
    }
   },
   "outputs": [
    {
     "data": {
      "text/html": [
       "<div>\n",
       "<style scoped>\n",
       "    .dataframe tbody tr th:only-of-type {\n",
       "        vertical-align: middle;\n",
       "    }\n",
       "\n",
       "    .dataframe tbody tr th {\n",
       "        vertical-align: top;\n",
       "    }\n",
       "\n",
       "    .dataframe thead th {\n",
       "        text-align: right;\n",
       "    }\n",
       "</style>\n",
       "<table border=\"1\" class=\"dataframe\">\n",
       "  <thead>\n",
       "    <tr style=\"text-align: right;\">\n",
       "      <th></th>\n",
       "      <th>Ingredients</th>\n",
       "    </tr>\n",
       "  </thead>\n",
       "  <tbody>\n",
       "    <tr>\n",
       "      <th>0</th>\n",
       "      <td>1 1/2 pounds new potatoes (2 cups squeezed) 8 ...</td>\n",
       "    </tr>\n",
       "    <tr>\n",
       "      <th>1</th>\n",
       "      <td>1 1/2 pounds zucchini 8 ounces onion ( 1/2 cup...</td>\n",
       "    </tr>\n",
       "    <tr>\n",
       "      <th>2</th>\n",
       "      <td>Butter for greasing a pan Salt to taste if des...</td>\n",
       "    </tr>\n",
       "    <tr>\n",
       "      <th>3</th>\n",
       "      <td>2 large cucumbers, about 1 1/4 pounds 2 carrot...</td>\n",
       "    </tr>\n",
       "    <tr>\n",
       "      <th>4</th>\n",
       "      <td>2 packed cups mixed greens of fresh fennel fro...</td>\n",
       "    </tr>\n",
       "  </tbody>\n",
       "</table>\n",
       "</div>"
      ],
      "text/plain": [
       "                                         Ingredients\n",
       "0  1 1/2 pounds new potatoes (2 cups squeezed) 8 ...\n",
       "1  1 1/2 pounds zucchini 8 ounces onion ( 1/2 cup...\n",
       "2  Butter for greasing a pan Salt to taste if des...\n",
       "3  2 large cucumbers, about 1 1/4 pounds 2 carrot...\n",
       "4  2 packed cups mixed greens of fresh fennel fro..."
      ]
     },
     "execution_count": 19,
     "metadata": {},
     "output_type": "execute_result"
    }
   ],
   "source": [
    "ingredients_list = pd.DataFrame(test_list)\n",
    "ingredients_list.columns = ['Ingredients']\n",
    "ingredients_list.head()"
   ]
  },
  {
   "cell_type": "code",
   "execution_count": 20,
   "metadata": {
    "ExecuteTime": {
     "end_time": "2022-06-01T23:15:07.759615Z",
     "start_time": "2022-06-01T23:15:07.746647Z"
    }
   },
   "outputs": [],
   "source": [
    "df = urls.join(ingredients_list,lsuffix='URL',rsuffix='Ingredients')"
   ]
  },
  {
   "cell_type": "code",
   "execution_count": 21,
   "metadata": {
    "ExecuteTime": {
     "end_time": "2022-06-01T23:15:08.456095Z",
     "start_time": "2022-06-01T23:15:08.438050Z"
    }
   },
   "outputs": [],
   "source": [
    "df = titles.join(df,lsuffix='Titles',rsuffix=\"URL\")"
   ]
  },
  {
   "cell_type": "code",
   "execution_count": 22,
   "metadata": {
    "ExecuteTime": {
     "end_time": "2022-06-01T23:15:09.472985Z",
     "start_time": "2022-06-01T23:15:09.452077Z"
    }
   },
   "outputs": [
    {
     "data": {
      "text/html": [
       "<div>\n",
       "<style scoped>\n",
       "    .dataframe tbody tr th:only-of-type {\n",
       "        vertical-align: middle;\n",
       "    }\n",
       "\n",
       "    .dataframe tbody tr th {\n",
       "        vertical-align: top;\n",
       "    }\n",
       "\n",
       "    .dataframe thead th {\n",
       "        text-align: right;\n",
       "    }\n",
       "</style>\n",
       "<table border=\"1\" class=\"dataframe\">\n",
       "  <thead>\n",
       "    <tr style=\"text-align: right;\">\n",
       "      <th></th>\n",
       "      <th>Titles</th>\n",
       "      <th>URL</th>\n",
       "      <th>Ingredients</th>\n",
       "    </tr>\n",
       "  </thead>\n",
       "  <tbody>\n",
       "    <tr>\n",
       "      <th>0</th>\n",
       "      <td>Potato Cheese Pancakes</td>\n",
       "      <td>https://cooking.nytimes.com/recipes/1000-potat...</td>\n",
       "      <td>1 1/2 pounds new potatoes (2 cups squeezed) 8 ...</td>\n",
       "    </tr>\n",
       "    <tr>\n",
       "      <th>1</th>\n",
       "      <td>Zucchini Pancakes</td>\n",
       "      <td>https://cooking.nytimes.com/recipes/1001-zucch...</td>\n",
       "      <td>1 1/2 pounds zucchini 8 ounces onion ( 1/2 cup...</td>\n",
       "    </tr>\n",
       "    <tr>\n",
       "      <th>2</th>\n",
       "      <td>Fillets Of Flounder With Parsley And Mustard S...</td>\n",
       "      <td>https://cooking.nytimes.com/recipes/1002-fille...</td>\n",
       "      <td>Butter for greasing a pan Salt to taste if des...</td>\n",
       "    </tr>\n",
       "    <tr>\n",
       "      <th>3</th>\n",
       "      <td>Cucumbers And Carrots</td>\n",
       "      <td>https://cooking.nytimes.com/recipes/1003-cucum...</td>\n",
       "      <td>2 large cucumbers, about 1 1/4 pounds 2 carrot...</td>\n",
       "    </tr>\n",
       "    <tr>\n",
       "      <th>4</th>\n",
       "      <td>Pasta With Fennel And Sardines</td>\n",
       "      <td>https://cooking.nytimes.com/recipes/1004-pasta...</td>\n",
       "      <td>2 packed cups mixed greens of fresh fennel fro...</td>\n",
       "    </tr>\n",
       "  </tbody>\n",
       "</table>\n",
       "</div>"
      ],
      "text/plain": [
       "                                              Titles  \\\n",
       "0                             Potato Cheese Pancakes   \n",
       "1                                  Zucchini Pancakes   \n",
       "2  Fillets Of Flounder With Parsley And Mustard S...   \n",
       "3                              Cucumbers And Carrots   \n",
       "4                     Pasta With Fennel And Sardines   \n",
       "\n",
       "                                                 URL  \\\n",
       "0  https://cooking.nytimes.com/recipes/1000-potat...   \n",
       "1  https://cooking.nytimes.com/recipes/1001-zucch...   \n",
       "2  https://cooking.nytimes.com/recipes/1002-fille...   \n",
       "3  https://cooking.nytimes.com/recipes/1003-cucum...   \n",
       "4  https://cooking.nytimes.com/recipes/1004-pasta...   \n",
       "\n",
       "                                         Ingredients  \n",
       "0  1 1/2 pounds new potatoes (2 cups squeezed) 8 ...  \n",
       "1  1 1/2 pounds zucchini 8 ounces onion ( 1/2 cup...  \n",
       "2  Butter for greasing a pan Salt to taste if des...  \n",
       "3  2 large cucumbers, about 1 1/4 pounds 2 carrot...  \n",
       "4  2 packed cups mixed greens of fresh fennel fro...  "
      ]
     },
     "execution_count": 22,
     "metadata": {},
     "output_type": "execute_result"
    }
   ],
   "source": [
    "df.head()"
   ]
  },
  {
   "cell_type": "code",
   "execution_count": null,
   "metadata": {
    "ExecuteTime": {
     "end_time": "2022-06-01T17:53:37.066949Z",
     "start_time": "2022-06-01T17:53:37.044889Z"
    }
   },
   "outputs": [],
   "source": [
    "df[df['Titles']== '']"
   ]
  },
  {
   "cell_type": "code",
   "execution_count": null,
   "metadata": {
    "ExecuteTime": {
     "end_time": "2022-06-01T17:49:21.312475Z",
     "start_time": "2022-06-01T17:49:21.309586Z"
    }
   },
   "outputs": [],
   "source": [
    "#df.replace('', np.nan,inplace=True)"
   ]
  },
  {
   "cell_type": "code",
   "execution_count": null,
   "metadata": {
    "ExecuteTime": {
     "end_time": "2022-06-01T17:26:50.336251Z",
     "start_time": "2022-06-01T17:26:50.330004Z"
    }
   },
   "outputs": [],
   "source": [
    "#df[df['Titles'].isna()]"
   ]
  },
  {
   "cell_type": "code",
   "execution_count": null,
   "metadata": {
    "ExecuteTime": {
     "end_time": "2022-06-01T17:26:54.260784Z",
     "start_time": "2022-06-01T17:26:54.235259Z"
    }
   },
   "outputs": [],
   "source": [
    "#df.isnull().sum()"
   ]
  },
  {
   "cell_type": "code",
   "execution_count": null,
   "metadata": {
    "ExecuteTime": {
     "end_time": "2022-06-01T17:26:57.718880Z",
     "start_time": "2022-06-01T17:26:57.714101Z"
    }
   },
   "outputs": [],
   "source": [
    "#f.dropna(subset=[\"Titles\"],inplace=True)"
   ]
  },
  {
   "cell_type": "code",
   "execution_count": null,
   "metadata": {
    "ExecuteTime": {
     "end_time": "2022-06-01T17:27:01.134819Z",
     "start_time": "2022-06-01T17:27:01.130595Z"
    }
   },
   "outputs": [],
   "source": [
    "#df.isnull().sum()"
   ]
  },
  {
   "cell_type": "markdown",
   "metadata": {},
   "source": [
    "I want to now start using NLP methods to reduce the words in the string to a simplified string of ingredients.\n"
   ]
  },
  {
   "cell_type": "code",
   "execution_count": null,
   "metadata": {
    "ExecuteTime": {
     "end_time": "2022-06-01T17:51:39.894175Z",
     "start_time": "2022-06-01T17:51:39.884377Z"
    }
   },
   "outputs": [],
   "source": [
    "sample_recipe = sample_recipe.lower() # turn all letter to lower case\n",
    "sample_recipe"
   ]
  },
  {
   "cell_type": "code",
   "execution_count": null,
   "metadata": {
    "ExecuteTime": {
     "end_time": "2022-06-01T17:51:43.441370Z",
     "start_time": "2022-06-01T17:51:43.438593Z"
    }
   },
   "outputs": [],
   "source": [
    "# Using Regex to tokenize the sting \n",
    "pattern = \"([a-zA-Z]+(?:'[a-z]+)?)\"\n",
    "tokenizer = RegexpTokenizer(pattern)\n",
    "sample_recipe = tokenizer.tokenize(sample_recipe)\n",
    "sample_recipe"
   ]
  },
  {
   "cell_type": "code",
   "execution_count": null,
   "metadata": {
    "ExecuteTime": {
     "end_time": "2022-06-01T17:51:47.842036Z",
     "start_time": "2022-06-01T17:51:47.824500Z"
    }
   },
   "outputs": [],
   "source": [
    "# tagging POS to see if unnecessary parts of speech can be taken out\n",
    "sample_recipe_tagged = pos_tag(sample_recipe)\n",
    "sample_recipe_tagged"
   ]
  },
  {
   "cell_type": "markdown",
   "metadata": {},
   "source": [
    "Looks like there won't be a simple solution from tagging because labeling POS isn't perfect. If I just wanted to keep nouns, which would make logical sense for a list of ingredients, some of the nouns are labeled as adjectives.\n",
    "In this case onion, flour, salt and cheese are all not tagged as nouns."
   ]
  },
  {
   "cell_type": "markdown",
   "metadata": {},
   "source": [
    "For a more targeted way to remove problematic words, building up a good stopword list can eliminate predicatable words. I found a similar project on GitHub and took/edited some of the stopwords lists they had built. Found \n",
    "[here](https://github.com/jackmleitch/whatscooking-deployment/blob/master/ingredient_parser.py). "
   ]
  },
  {
   "cell_type": "code",
   "execution_count": 23,
   "metadata": {
    "ExecuteTime": {
     "end_time": "2022-06-01T23:15:54.377522Z",
     "start_time": "2022-06-01T23:15:54.353902Z"
    }
   },
   "outputs": [],
   "source": [
    "measures = [\n",
    "        \"teaspoon\",\n",
    "        \"teaspoons\",\n",
    "        \"t\",\n",
    "        \"tsp.\",\n",
    "        \"tablespoon\",\n",
    "        \"tablespoons\",\n",
    "        \"T\",\n",
    "        \"tbl.\",\n",
    "        \"tb\",\n",
    "        \"tbsp.\",\n",
    "        \"fluid\",\n",
    "        \"ounce\",\n",
    "        \"ounces\",\n",
    "        \"fl oz\",\n",
    "        \"gill\",\n",
    "        \"cup\",\n",
    "        \"cups\",\n",
    "        \"c\",\n",
    "        \"pint\",\n",
    "        \"pints\",\n",
    "        \"p\",\n",
    "        \"pt\",\n",
    "        \"fl pt\",\n",
    "        \"quart\",\n",
    "        \"quarts\",\n",
    "        \"q\",\n",
    "        \"qt\",\n",
    "        \"fl qt\",\n",
    "        \"gallon\",\n",
    "        \"gallons\",\n",
    "        \"g\",\n",
    "        \"gal\",\n",
    "        \"ml\",\n",
    "        \"milliliter\",\n",
    "        \"milliliters\",\n",
    "        \"millilitre\",\n",
    "        \"cc\",\n",
    "        \"mL\",\n",
    "        \"l\",\n",
    "        \"liter\",\n",
    "        \"liters\",\n",
    "        \"litre\",\n",
    "        \"L\",\n",
    "        \"dl\",\n",
    "        \"deciliter\",\n",
    "        \"decilitre\",\n",
    "        \"dL\",\n",
    "        \"bulb\",\n",
    "        \"level\",\n",
    "        \"heaped\",\n",
    "        \"rounded\",\n",
    "        \"whole\",\n",
    "        \"pinch\",\n",
    "        \"medium\",\n",
    "        \"slice\",\n",
    "        \"pound\",\n",
    "        \"pounds\",\n",
    "        \"lb\",\n",
    "        \"#\",\n",
    "        \"ounce\",\n",
    "        \"oz\",\n",
    "        \"mg\",\n",
    "        \"milligram\",\n",
    "        \"milligrams\",\n",
    "        \"milligramme\",\n",
    "        \"g\",\n",
    "        \"gram\",\n",
    "        'grams'\n",
    "        \"gramme\",\n",
    "        \"kg\",\n",
    "        \"kilogram\",\n",
    "        \"kilogramme\",\n",
    "        \"x\",\n",
    "        \"of\",\n",
    "        \"mm\",\n",
    "        \"millimetre\",\n",
    "        \"millimeter\",\n",
    "        \"cm\",\n",
    "        \"centimeter\",\n",
    "        \"centimetre\",\n",
    "        \"m\",\n",
    "        \"meter\",\n",
    "        \"metre\",\n",
    "        \"inch\",\n",
    "        \"in\",\n",
    "        \"milli\",\n",
    "        \"centi\",\n",
    "        \"deci\",\n",
    "        \"hecto\",\n",
    "        \"kilo\",\n",
    "        'teaspoon',\n",
    "         'teaspoons',\n",
    "         'tablespoon',\n",
    "         'tablespoons',\n",
    "         'cup',\n",
    "         'cups',\n",
    "         'ounce',\n",
    "         'ounces',\n",
    "         'fluid',\n",
    "         'quart',\n",
    "         'quarts',\n",
    "         'gallon',\n",
    "         'gallons',\n",
    "         'pound',\n",
    "         'pounds'\n",
    "]"
   ]
  },
  {
   "cell_type": "code",
   "execution_count": 24,
   "metadata": {
    "ExecuteTime": {
     "end_time": "2022-06-01T23:15:55.458509Z",
     "start_time": "2022-06-01T23:15:55.434169Z"
    }
   },
   "outputs": [],
   "source": [
    " words_to_remove = [\n",
    "        \"fresh\",\n",
    "        \"minced\",\n",
    "        \"chopped\", \n",
    "        \"a\",\n",
    "        \"red\",\n",
    "        \"bunch\",\n",
    "        \"and\",\n",
    "        \n",
    "        \"or\",\n",
    "        \"leaf\",\n",
    "        \n",
    "        \"large\",\n",
    "        \"extra\",\n",
    "        \"sprig\",\n",
    "        \"ground\",\n",
    "        \"handful\",\n",
    "        \"free\",\n",
    "        \"small\",\n",
    "        \n",
    "        \"virgin\",\n",
    "        \"range\",\n",
    "        \"from\",\n",
    "        \"dried\",\n",
    "        \"sustainable\",\n",
    "        \"black\",\n",
    "        \"peeled\",\n",
    "        \"higher\",\n",
    "        \"welfare\",\n",
    "        \n",
    "        \"for\",\n",
    "        \"finely\",\n",
    "        \"freshly\",\n",
    "        \"sea\",\n",
    "        \"quality\",\n",
    "        \"white\",\n",
    "        \"ripe\",\n",
    "        \"few\",\n",
    "        \"piece\",\n",
    "        \"source\",\n",
    "        \"to\",\n",
    "        \"organic\",\n",
    "        \"flat\",\n",
    "        \"smoked\",\n",
    "        \n",
    "        \"sliced\",\n",
    "        \"green\",\n",
    "        \"picked\",\n",
    "        \"the\",\n",
    "        \"stick\",\n",
    "        \"plain\",\n",
    "        \"plus\",\n",
    "        \"mixed\",\n",
    "        \n",
    "        \n",
    "        \n",
    "        \"your\",\n",
    "        \n",
    "        \"optional\",\n",
    "        \n",
    "        \"serve\",\n",
    "        \n",
    "        \"unsalted\",\n",
    "        \"baby\",\n",
    "        \n",
    "        \"fat\",\n",
    "        \"ask\",\n",
    "        \"natural\",\n",
    "        \"skin\",\n",
    "        \"roughly\",\n",
    "        \"into\",\n",
    "        \"such\",\n",
    "        \"cut\",\n",
    "        \"good\",\n",
    "        \"brown\",\n",
    "        \"grated\",\n",
    "        \"trimmed\",\n",
    "        \n",
    "        \"powder\",\n",
    "        \"yellow\",\n",
    "        \"dusting\",\n",
    "        \"knob\",\n",
    "        \"frozen\",\n",
    "        \"on\",\n",
    "        \"deseeded\",\n",
    "        \"low\",\n",
    "        \"runny\",\n",
    "        \n",
    "        \"cooked\",\n",
    "        \"streaky\",\n",
    "        \"nutmeg\",\n",
    "        \"sage\",\n",
    "        \"rasher\",\n",
    "        \"zest\",\n",
    "        \"pin\",\n",
    "        \"groundnut\",\n",
    "        \"breadcrumb\",\n",
    "        \n",
    "        \"halved\",\n",
    "        \"grating\",\n",
    "        \"stalk\",\n",
    "        \"light\",\n",
    "        \"tinned\",\n",
    "        \"dry\",\n",
    "        \"soft\",\n",
    "        \"rocket\",\n",
    "        \"bone\",\n",
    "        \"colour\",\n",
    "        \"washed\",\n",
    "        \"skinless\",\n",
    "        \"leftover\",\n",
    "        \"splash\",\n",
    "        \"removed\",\n",
    "        \"dijon\",\n",
    "        \"thick\",\n",
    "        \"big\",\n",
    "        \"hot\",\n",
    "        \"drained\",\n",
    "        \"sized\",\n",
    "        \n",
    "        \"watercress\",\n",
    "        \"fishmonger\",\n",
    "        \"english\",\n",
    "        \n",
    "        \n",
    "        \"raw\",\n",
    "        \n",
    "        \"flake\",\n",
    "        \n",
    "        \n",
    "        \"tbsp\",\n",
    "        \"leg\",\n",
    "        \"pine\",\n",
    "        \"wild\",\n",
    "        \"if\",\n",
    "        \"fine\",\n",
    "        \"herb\",\n",
    "        \n",
    "        \"shoulder\",\n",
    "        \"cube\",\n",
    "        \"dressing\",\n",
    "        \"with\",\n",
    "        \"chunk\",\n",
    "        \"spice\",\n",
    "        \"thumb\",\n",
    "        \"garam\",\n",
    "        \"new\",\n",
    "        \"little\",\n",
    "        \"punnet\",\n",
    "        \n",
    "        \"shelled\",\n",
    "        \n",
    "        \"other\", \"chopped\",\n",
    "        \"salt\",\n",
    "        \"olive\",\n",
    "        \"taste\",\n",
    "        \"can\",\n",
    "        \"sauce\",\n",
    "        \"water\",\n",
    "        \"diced\",\n",
    "        \"package\",\n",
    "        \"italian\",\n",
    "        \"shredded\",\n",
    "        \"divided\",\n",
    "        \n",
    "        \"vinegar\",\n",
    "        \"all\",\n",
    "        \"purpose\",\n",
    "        \"crushed\",\n",
    "        \"juice\",\n",
    "        \"more\",\n",
    "        \"coriander\",\n",
    "        \"bell\",\n",
    "        \"needed\",\n",
    "        \"thinly\",\n",
    "        \"boneless\",\n",
    "        \"half\",\n",
    "        \n",
    "        \"cubed\",\n",
    "        \n",
    "        \n",
    "        \"jar\",\n",
    "        \"seasoning\",\n",
    "        \n",
    "        \"extract\",\n",
    "        \"sweet\",\n",
    "        \"baking\",\n",
    "        \"beaten\",\n",
    "        \"heavy\",\n",
    "        \"seeded\",\n",
    "        \"tin\",\n",
    "        \"vanilla\",\n",
    "        \"uncooked\",\n",
    "        \"crumb\",\n",
    "        \"style\",\n",
    "        \"thin\",\n",
    "        \n",
    "        \"coarsely\",\n",
    "        \"spring\",\n",
    "        \n",
    "        \"cornstarch\",\n",
    "        \"strip\",\n",
    "        \n",
    "        \"rinsed\",\n",
    "        \"honey\",\n",
    "        \n",
    "        \"root\",\n",
    "        \"quartered\",\n",
    "        \"head\",\n",
    "        \"softened\",\n",
    "        \"container\",\n",
    "        \"crumbled\",\n",
    "        \"frying\",\n",
    "        \"lean\",\n",
    "        \"cooking\",\n",
    "        \"roasted\",\n",
    "        \"warm\",\n",
    "        \"whipping\",\n",
    "        \"thawed\",\n",
    "       \n",
    "        \"pitted\",\n",
    "        \"sun\",\n",
    "        \"kosher\",\n",
    "        \"bite\",\n",
    "        \"toasted\",\n",
    "        \n",
    "        \"split\",\n",
    "        \"melted\",\n",
    "        \"degree\",\n",
    "        \"lengthwise\",\n",
    "        \"romano\",\n",
    "        \"packed\",\n",
    "        \"pod\",\n",
    "       \n",
    "        \"rom\",\n",
    "        \"prepared\",\n",
    "        \"juiced\",\n",
    "        \"fluid\",\n",
    "        \"floret\",\n",
    "        \"room\",\n",
    "        \"active\",\n",
    "        \"seasoned\",\n",
    "        \"mix\",\n",
    "        \"deveined\",\n",
    "        \"lightly\",\n",
    "        \n",
    "        \"thai\",\n",
    "        \"size\",\n",
    "        \"unsweetened\",\n",
    "        \"torn\",\n",
    "        \"wedge\",\n",
    "        \"sour\",\n",
    "        \"basmati\",\n",
    "        \n",
    "        \"dark\",\n",
    "        \"temperature\",\n",
    "        \"garnish\",\n",
    "        \n",
    "        \"loaf\",\n",
    "        \"shell\",\n",
    "        \n",
    "        \"canola\",\n",
    "        \"parmigiano\",\n",
    "        \"round\",\n",
    "        \"canned\",\n",
    "        \n",
    "        \"crust\",\n",
    "        \"long\",\n",
    "        \"broken\",\n",
    "        \"ketchup\",\n",
    "        \"bulk\",\n",
    "        \"cleaned\",\n",
    "        \"condensed\",\n",
    "        \"sherry\",\n",
    "        \n",
    "        \"cold\",\n",
    "        \"soda\",\n",
    "        \"cottage\",\n",
    "        \"spray\",\n",
    "        \"tamarind\",\n",
    "        \"pecorino\",\n",
    "        \"shortening\",\n",
    "        \"part\",\n",
    "        \"bottle\",\n",
    "        \"sodium\",\n",
    "        \"cocoa\",\n",
    "        \"grain\",\n",
    "        \"french\",\n",
    "        \"roast\",\n",
    "        \"stem\",\n",
    "        \"link\",\n",
    "        \"firm\",\n",
    "        \"asafoetida\",\n",
    "        \"mild\",\n",
    "        \"dash\",\n",
    "        \"boiling\",\n",
    "        \n",
    "        \"chopped\",\n",
    "        \"skin off\",\n",
    "        \"bone out\" ,\n",
    "        \"from\",\n",
    "        \"sustrainable\",\n",
    "        \"sources\",\n",
    "    ]"
   ]
  },
  {
   "cell_type": "code",
   "execution_count": 25,
   "metadata": {
    "ExecuteTime": {
     "end_time": "2022-06-01T23:15:56.495673Z",
     "start_time": "2022-06-01T23:15:56.476485Z"
    }
   },
   "outputs": [],
   "source": [
    "sw = stopwords.words('english')\n",
    "sw.extend(measures)\n",
    "sw.extend(words_to_remove)"
   ]
  },
  {
   "cell_type": "markdown",
   "metadata": {},
   "source": [
    "Time to create a function that will put these steps together to apply to a data frame series."
   ]
  },
  {
   "cell_type": "code",
   "execution_count": 26,
   "metadata": {
    "ExecuteTime": {
     "end_time": "2022-06-01T23:15:59.604037Z",
     "start_time": "2022-06-01T23:15:59.586862Z"
    }
   },
   "outputs": [],
   "source": [
    "def ingredient_parser(recipe):\n",
    "    \n",
    "    #recipe = ' '.join(recipe)\n",
    "    \n",
    "    recipe = recipe.lower()\n",
    "    \n",
    "    pattern = \"([a-zA-Z]+(?:'[a-z]+)?)\"\n",
    "    tokenizer = RegexpTokenizer(pattern)\n",
    "    recipe = tokenizer.tokenize(recipe)\n",
    "    \n",
    "    recipe_tagged = pos_tag(recipe)\n",
    "    recipe_tagged\n",
    "    \n",
    "    new_list = []\n",
    "    for i in recipe_tagged:\n",
    "        if i[1]== 'NN':\n",
    "            new_list.append(i)\n",
    "        elif i[1]== 'NNS':\n",
    "            new_list.append(i)\n",
    "#         elif i[1] == 'JJ':\n",
    "#             new_list.append(i)\n",
    "    \n",
    "    n_list = []\n",
    "    for i in new_list:\n",
    "        n_list.append(i[0])\n",
    "     \n",
    "    recipe = [token for token in n_list if token not in sw]\n",
    "    recipe = ' '.join(recipe)\n",
    "    return recipe"
   ]
  },
  {
   "cell_type": "markdown",
   "metadata": {
    "ExecuteTime": {
     "end_time": "2022-05-26T16:00:52.909466Z",
     "start_time": "2022-05-26T16:00:52.804243Z"
    }
   },
   "source": [
    "Testing the function."
   ]
  },
  {
   "cell_type": "code",
   "execution_count": 27,
   "metadata": {
    "ExecuteTime": {
     "end_time": "2022-06-01T23:16:03.084167Z",
     "start_time": "2022-06-01T23:16:02.995531Z"
    }
   },
   "outputs": [
    {
     "data": {
      "text/plain": [
       "'potatoes egg whites reggiano pepper oil'"
      ]
     },
     "execution_count": 27,
     "metadata": {},
     "output_type": "execute_result"
    }
   ],
   "source": [
    "sample = ingredient_parser(ingredients_list[\"Ingredients\"][0])\n",
    "sample"
   ]
  },
  {
   "cell_type": "markdown",
   "metadata": {},
   "source": [
    "Sweet."
   ]
  },
  {
   "cell_type": "code",
   "execution_count": 28,
   "metadata": {
    "ExecuteTime": {
     "end_time": "2022-06-01T23:16:21.279969Z",
     "start_time": "2022-06-01T23:16:05.051311Z"
    }
   },
   "outputs": [],
   "source": [
    "df['parsed'] = df['Ingredients'].apply(ingredient_parser)"
   ]
  },
  {
   "cell_type": "code",
   "execution_count": 39,
   "metadata": {
    "ExecuteTime": {
     "end_time": "2022-06-02T01:58:58.827848Z",
     "start_time": "2022-06-02T01:58:58.807978Z"
    }
   },
   "outputs": [
    {
     "data": {
      "text/html": [
       "<div>\n",
       "<style scoped>\n",
       "    .dataframe tbody tr th:only-of-type {\n",
       "        vertical-align: middle;\n",
       "    }\n",
       "\n",
       "    .dataframe tbody tr th {\n",
       "        vertical-align: top;\n",
       "    }\n",
       "\n",
       "    .dataframe thead th {\n",
       "        text-align: right;\n",
       "    }\n",
       "</style>\n",
       "<table border=\"1\" class=\"dataframe\">\n",
       "  <thead>\n",
       "    <tr style=\"text-align: right;\">\n",
       "      <th></th>\n",
       "      <th>Titles</th>\n",
       "      <th>URL</th>\n",
       "      <th>Ingredients</th>\n",
       "      <th>parsed</th>\n",
       "    </tr>\n",
       "  </thead>\n",
       "  <tbody>\n",
       "    <tr>\n",
       "      <th>0</th>\n",
       "      <td>Potato Cheese Pancakes</td>\n",
       "      <td>https://cooking.nytimes.com/recipes/1000-potato-cheese-pancakes</td>\n",
       "      <td>1 1/2 pounds new potatoes (2 cups squeezed) 8 ounces onion ( 1/2 cup squeezed) 3 egg whites 2 tablespoons flour 5 tablespoons grated Parmigiano Reggiano cheese (2 ounces) 1/8 teaspoon salt Freshly ground black pepper to taste Oil spray</td>\n",
       "      <td>potatoes egg whites reggiano pepper oil</td>\n",
       "    </tr>\n",
       "    <tr>\n",
       "      <th>1</th>\n",
       "      <td>Zucchini Pancakes</td>\n",
       "      <td>https://cooking.nytimes.com/recipes/1001-zucchini-pancakes</td>\n",
       "      <td>1 1/2 pounds zucchini 8 ounces onion ( 1/2 cup squeezed) 3 tablespoons flour 4 egg whites 1/2 teaspoon dried thyme leaves 1/4 teaspoon salt Freshly ground black pepper to taste</td>\n",
       "      <td>egg whites thyme pepper</td>\n",
       "    </tr>\n",
       "    <tr>\n",
       "      <th>2</th>\n",
       "      <td>Fillets Of Flounder With Parsley And Mustard Sauce</td>\n",
       "      <td>https://cooking.nytimes.com/recipes/1002-fillets-of-flounder-with-parsley-and-mustard-sauce</td>\n",
       "      <td>Butter for greasing a pan Salt to taste if desired Freshly ground pepper to taste 4 flounder fillets, about 1 1/4 pounds 1 tablespoon plus 1/3 cup dry white wine 2 cups parsley leaves, stems removed, loosely packed 2 tablespoons finely chopped shallots 1/3 cup heavy cream 1 teaspoon Dijon-style mustard</td>\n",
       "      <td>butter pan pepper fillets wine leaves shallots cream mustard</td>\n",
       "    </tr>\n",
       "    <tr>\n",
       "      <th>3</th>\n",
       "      <td>Cucumbers And Carrots</td>\n",
       "      <td>https://cooking.nytimes.com/recipes/1003-cucumbers-and-carrots</td>\n",
       "      <td>2 large cucumbers, about 1 1/4 pounds 2 carrots, about 1/2 pound 2 tablespoons butter 1 tablespoon finely chopped shallots Salt to taste if desired Freshly ground pepper to taste 1/4 teaspoon ground cumin</td>\n",
       "      <td>cucumbers carrots shallots pepper cumin</td>\n",
       "    </tr>\n",
       "    <tr>\n",
       "      <th>4</th>\n",
       "      <td>Pasta With Fennel And Sardines</td>\n",
       "      <td>https://cooking.nytimes.com/recipes/1004-pasta-with-fennel-and-sardines</td>\n",
       "      <td>2 packed cups mixed greens of fresh fennel fronds, dillweed and a few ground fennel seeds - use 1 bushy bulb fennel top with 1 bunch fresh dillweed - (see notes) Coarse (kosher) salt 2 tablespoons currants 1 piece sun-dried tomato, cut into small bits, optional 2 pinches pulverized saffron in 1/4-cup hot water 6 tablespoons olive oil 1/2 cup finely chopped onions 7 anchovy fillets, drained, rinsed and cut up 2 tablespoons pine nuts 1/4 teaspoon powdered fennel seed 2 4-ounce cans boneless sardines packed in olive oil, preferably Italian, French or Portuguese. or 12 fresh sardines (see notes) Freshly ground pepper 1/2 pound hollow spaghetti, maccheroncini, bucatini or perciatelli</td>\n",
       "      <td>greens fennel fronds fennel seeds fennel dillweed notes currants tomato bits pinches saffron oil onions fillets nuts fennel seed cans sardines oil sardines notes hollow spaghetti bucatini perciatelli</td>\n",
       "    </tr>\n",
       "  </tbody>\n",
       "</table>\n",
       "</div>"
      ],
      "text/plain": [
       "                                               Titles  \\\n",
       "0                              Potato Cheese Pancakes   \n",
       "1                                   Zucchini Pancakes   \n",
       "2  Fillets Of Flounder With Parsley And Mustard Sauce   \n",
       "3                               Cucumbers And Carrots   \n",
       "4                      Pasta With Fennel And Sardines   \n",
       "\n",
       "                                                                                           URL  \\\n",
       "0                              https://cooking.nytimes.com/recipes/1000-potato-cheese-pancakes   \n",
       "1                                   https://cooking.nytimes.com/recipes/1001-zucchini-pancakes   \n",
       "2  https://cooking.nytimes.com/recipes/1002-fillets-of-flounder-with-parsley-and-mustard-sauce   \n",
       "3                               https://cooking.nytimes.com/recipes/1003-cucumbers-and-carrots   \n",
       "4                      https://cooking.nytimes.com/recipes/1004-pasta-with-fennel-and-sardines   \n",
       "\n",
       "                                                                                                                                                                                                                                                                                                                                                                                                                                                                                                                                                                                                                                                                                                       Ingredients  \\\n",
       "0                                                                                                                                                                                                                                                                                                                                                                                                                                                                      1 1/2 pounds new potatoes (2 cups squeezed) 8 ounces onion ( 1/2 cup squeezed) 3 egg whites 2 tablespoons flour 5 tablespoons grated Parmigiano Reggiano cheese (2 ounces) 1/8 teaspoon salt Freshly ground black pepper to taste Oil spray   \n",
       "1                                                                                                                                                                                                                                                                                                                                                                                                                                                                                                                                 1 1/2 pounds zucchini 8 ounces onion ( 1/2 cup squeezed) 3 tablespoons flour 4 egg whites 1/2 teaspoon dried thyme leaves 1/4 teaspoon salt Freshly ground black pepper to taste   \n",
       "2                                                                                                                                                                                                                                                                                                                                                                                                  Butter for greasing a pan Salt to taste if desired Freshly ground pepper to taste 4 flounder fillets, about 1 1/4 pounds 1 tablespoon plus 1/3 cup dry white wine 2 cups parsley leaves, stems removed, loosely packed 2 tablespoons finely chopped shallots 1/3 cup heavy cream 1 teaspoon Dijon-style mustard   \n",
       "3                                                                                                                                                                                                                                                                                                                                                                                                                                                                                                     2 large cucumbers, about 1 1/4 pounds 2 carrots, about 1/2 pound 2 tablespoons butter 1 tablespoon finely chopped shallots Salt to taste if desired Freshly ground pepper to taste 1/4 teaspoon ground cumin   \n",
       "4  2 packed cups mixed greens of fresh fennel fronds, dillweed and a few ground fennel seeds - use 1 bushy bulb fennel top with 1 bunch fresh dillweed - (see notes) Coarse (kosher) salt 2 tablespoons currants 1 piece sun-dried tomato, cut into small bits, optional 2 pinches pulverized saffron in 1/4-cup hot water 6 tablespoons olive oil 1/2 cup finely chopped onions 7 anchovy fillets, drained, rinsed and cut up 2 tablespoons pine nuts 1/4 teaspoon powdered fennel seed 2 4-ounce cans boneless sardines packed in olive oil, preferably Italian, French or Portuguese. or 12 fresh sardines (see notes) Freshly ground pepper 1/2 pound hollow spaghetti, maccheroncini, bucatini or perciatelli   \n",
       "\n",
       "                                                                                                                                                                                                    parsed  \n",
       "0                                                                                                                                                                  potatoes egg whites reggiano pepper oil  \n",
       "1                                                                                                                                                                                  egg whites thyme pepper  \n",
       "2                                                                                                                                             butter pan pepper fillets wine leaves shallots cream mustard  \n",
       "3                                                                                                                                                                  cucumbers carrots shallots pepper cumin  \n",
       "4  greens fennel fronds fennel seeds fennel dillweed notes currants tomato bits pinches saffron oil onions fillets nuts fennel seed cans sardines oil sardines notes hollow spaghetti bucatini perciatelli  "
      ]
     },
     "execution_count": 39,
     "metadata": {},
     "output_type": "execute_result"
    }
   ],
   "source": [
    "df.head()"
   ]
  },
  {
   "cell_type": "markdown",
   "metadata": {
    "ExecuteTime": {
     "end_time": "2022-05-23T19:48:35.891011Z",
     "start_time": "2022-05-23T19:48:35.823876Z"
    }
   },
   "source": [
    "Time to vectorize the parced data."
   ]
  },
  {
   "cell_type": "code",
   "execution_count": 41,
   "metadata": {
    "ExecuteTime": {
     "end_time": "2022-06-02T01:59:25.118131Z",
     "start_time": "2022-06-02T01:59:24.970103Z"
    }
   },
   "outputs": [
    {
     "name": "stderr",
     "output_type": "stream",
     "text": [
      "/opt/anaconda3/envs/learn-env/lib/python3.8/site-packages/sklearn/utils/deprecation.py:87: FutureWarning: Function get_feature_names is deprecated; get_feature_names is deprecated in 1.0 and will be removed in 1.2. Please use get_feature_names_out instead.\n",
      "  warnings.warn(msg, category=FutureWarning)\n"
     ]
    },
    {
     "data": {
      "text/html": [
       "<div>\n",
       "<style scoped>\n",
       "    .dataframe tbody tr th:only-of-type {\n",
       "        vertical-align: middle;\n",
       "    }\n",
       "\n",
       "    .dataframe tbody tr th {\n",
       "        vertical-align: top;\n",
       "    }\n",
       "\n",
       "    .dataframe thead th {\n",
       "        text-align: right;\n",
       "    }\n",
       "</style>\n",
       "<table border=\"1\" class=\"dataframe\">\n",
       "  <thead>\n",
       "    <tr style=\"text-align: right;\">\n",
       "      <th></th>\n",
       "      <th>ablespoon</th>\n",
       "      <th>absolut</th>\n",
       "      <th>abut</th>\n",
       "      <th>acacia</th>\n",
       "      <th>accent</th>\n",
       "      <th>accompaniments</th>\n",
       "      <th>achiote</th>\n",
       "      <th>acid</th>\n",
       "      <th>acidity</th>\n",
       "      <th>acorn</th>\n",
       "      <th>...</th>\n",
       "      <th>za</th>\n",
       "      <th>zabaglione</th>\n",
       "      <th>zebra</th>\n",
       "      <th>zester</th>\n",
       "      <th>zests</th>\n",
       "      <th>zinfandel</th>\n",
       "      <th>zinger</th>\n",
       "      <th>ziti</th>\n",
       "      <th>zucchini</th>\n",
       "      <th>zucchinis</th>\n",
       "    </tr>\n",
       "  </thead>\n",
       "  <tbody>\n",
       "    <tr>\n",
       "      <th>0</th>\n",
       "      <td>0</td>\n",
       "      <td>0</td>\n",
       "      <td>0</td>\n",
       "      <td>0</td>\n",
       "      <td>0</td>\n",
       "      <td>0</td>\n",
       "      <td>0</td>\n",
       "      <td>0</td>\n",
       "      <td>0</td>\n",
       "      <td>0</td>\n",
       "      <td>...</td>\n",
       "      <td>0</td>\n",
       "      <td>0</td>\n",
       "      <td>0</td>\n",
       "      <td>0</td>\n",
       "      <td>0</td>\n",
       "      <td>0</td>\n",
       "      <td>0</td>\n",
       "      <td>0</td>\n",
       "      <td>0</td>\n",
       "      <td>0</td>\n",
       "    </tr>\n",
       "    <tr>\n",
       "      <th>1</th>\n",
       "      <td>0</td>\n",
       "      <td>0</td>\n",
       "      <td>0</td>\n",
       "      <td>0</td>\n",
       "      <td>0</td>\n",
       "      <td>0</td>\n",
       "      <td>0</td>\n",
       "      <td>0</td>\n",
       "      <td>0</td>\n",
       "      <td>0</td>\n",
       "      <td>...</td>\n",
       "      <td>0</td>\n",
       "      <td>0</td>\n",
       "      <td>0</td>\n",
       "      <td>0</td>\n",
       "      <td>0</td>\n",
       "      <td>0</td>\n",
       "      <td>0</td>\n",
       "      <td>0</td>\n",
       "      <td>0</td>\n",
       "      <td>0</td>\n",
       "    </tr>\n",
       "    <tr>\n",
       "      <th>2</th>\n",
       "      <td>0</td>\n",
       "      <td>0</td>\n",
       "      <td>0</td>\n",
       "      <td>0</td>\n",
       "      <td>0</td>\n",
       "      <td>0</td>\n",
       "      <td>0</td>\n",
       "      <td>0</td>\n",
       "      <td>0</td>\n",
       "      <td>0</td>\n",
       "      <td>...</td>\n",
       "      <td>0</td>\n",
       "      <td>0</td>\n",
       "      <td>0</td>\n",
       "      <td>0</td>\n",
       "      <td>0</td>\n",
       "      <td>0</td>\n",
       "      <td>0</td>\n",
       "      <td>0</td>\n",
       "      <td>0</td>\n",
       "      <td>0</td>\n",
       "    </tr>\n",
       "    <tr>\n",
       "      <th>3</th>\n",
       "      <td>0</td>\n",
       "      <td>0</td>\n",
       "      <td>0</td>\n",
       "      <td>0</td>\n",
       "      <td>0</td>\n",
       "      <td>0</td>\n",
       "      <td>0</td>\n",
       "      <td>0</td>\n",
       "      <td>0</td>\n",
       "      <td>0</td>\n",
       "      <td>...</td>\n",
       "      <td>0</td>\n",
       "      <td>0</td>\n",
       "      <td>0</td>\n",
       "      <td>0</td>\n",
       "      <td>0</td>\n",
       "      <td>0</td>\n",
       "      <td>0</td>\n",
       "      <td>0</td>\n",
       "      <td>0</td>\n",
       "      <td>0</td>\n",
       "    </tr>\n",
       "    <tr>\n",
       "      <th>4</th>\n",
       "      <td>0</td>\n",
       "      <td>0</td>\n",
       "      <td>0</td>\n",
       "      <td>0</td>\n",
       "      <td>0</td>\n",
       "      <td>0</td>\n",
       "      <td>0</td>\n",
       "      <td>0</td>\n",
       "      <td>0</td>\n",
       "      <td>0</td>\n",
       "      <td>...</td>\n",
       "      <td>0</td>\n",
       "      <td>0</td>\n",
       "      <td>0</td>\n",
       "      <td>0</td>\n",
       "      <td>0</td>\n",
       "      <td>0</td>\n",
       "      <td>0</td>\n",
       "      <td>0</td>\n",
       "      <td>0</td>\n",
       "      <td>0</td>\n",
       "    </tr>\n",
       "  </tbody>\n",
       "</table>\n",
       "<p>5 rows × 2703 columns</p>\n",
       "</div>"
      ],
      "text/plain": [
       "   ablespoon  absolut  abut  acacia  accent  accompaniments  achiote  acid  \\\n",
       "0          0        0     0       0       0               0        0     0   \n",
       "1          0        0     0       0       0               0        0     0   \n",
       "2          0        0     0       0       0               0        0     0   \n",
       "3          0        0     0       0       0               0        0     0   \n",
       "4          0        0     0       0       0               0        0     0   \n",
       "\n",
       "   acidity  acorn  ...  za  zabaglione  zebra  zester  zests  zinfandel  \\\n",
       "0        0      0  ...   0           0      0       0      0          0   \n",
       "1        0      0  ...   0           0      0       0      0          0   \n",
       "2        0      0  ...   0           0      0       0      0          0   \n",
       "3        0      0  ...   0           0      0       0      0          0   \n",
       "4        0      0  ...   0           0      0       0      0          0   \n",
       "\n",
       "   zinger  ziti  zucchini  zucchinis  \n",
       "0       0     0         0          0  \n",
       "1       0     0         0          0  \n",
       "2       0     0         0          0  \n",
       "3       0     0         0          0  \n",
       "4       0     0         0          0  \n",
       "\n",
       "[5 rows x 2703 columns]"
      ]
     },
     "execution_count": 41,
     "metadata": {},
     "output_type": "execute_result"
    }
   ],
   "source": [
    "vec = CountVectorizer()\n",
    "                    \n",
    "X = vec.fit_transform(df['parsed'])\n",
    "\n",
    "df_vec = pd.DataFrame(X.toarray(), columns=vec.get_feature_names())\n",
    "df_vec.head()"
   ]
  },
  {
   "cell_type": "code",
   "execution_count": 31,
   "metadata": {
    "ExecuteTime": {
     "end_time": "2022-06-01T23:16:39.053531Z",
     "start_time": "2022-06-01T23:16:39.046273Z"
    }
   },
   "outputs": [],
   "source": [
    "# vocabulary = nltk.FreqDist()\n",
    "# # This was done once I had already preprocessed the ingredients\n",
    "# for ingredients in df['parced']:\n",
    "#     ingredients = ingredients.split()\n",
    "#     vocabulary.update(ingredients)\n",
    "# for word, frequency in vocabulary.most_common(500):\n",
    "#     print(f'{word};{frequency}')"
   ]
  },
  {
   "cell_type": "code",
   "execution_count": 32,
   "metadata": {
    "ExecuteTime": {
     "end_time": "2022-06-01T23:16:39.357874Z",
     "start_time": "2022-06-01T23:16:39.356200Z"
    }
   },
   "outputs": [],
   "source": [
    "# wordcloud = WordCloud(width = 800, height = 800,\n",
    "#                 background_color ='white',\n",
    "#                 stopwords = stopwords,\n",
    "#                 min_font_size = 10).generate(words)\n",
    " \n",
    "# # plot the WordCloud image                      \n",
    "# plt.figure(figsize = (8, 8), facecolor = None)\n",
    "# plt.imshow(wordcloud)\n",
    "# plt.axis(\"off\")\n",
    "# plt.tight_layout(pad = 0)\n",
    " \n",
    "# plt.show()"
   ]
  },
  {
   "cell_type": "markdown",
   "metadata": {
    "ExecuteTime": {
     "end_time": "2022-05-31T18:30:46.952405Z",
     "start_time": "2022-05-31T18:30:46.926775Z"
    }
   },
   "source": [
    "## Building the Recommendation System"
   ]
  },
  {
   "cell_type": "markdown",
   "metadata": {},
   "source": [
    "First we need to set up an input system that will be able to be input into the models and get recommendations via some kind scoreing metric. To do this I need to create a one-row data frame with the same columns as the vectorized recipes. When the user inputs an ingredient list, the items on that list will get a 1 in the column if it exists in the dataframe. The new data frame will be turned into an array and that array can be compareed to all the arrays from the recipes to find the closest match. "
   ]
  },
  {
   "cell_type": "code",
   "execution_count": 33,
   "metadata": {
    "ExecuteTime": {
     "end_time": "2022-06-01T23:16:44.799378Z",
     "start_time": "2022-06-01T23:16:40.553497Z"
    }
   },
   "outputs": [
    {
     "name": "stdout",
     "output_type": "stream",
     "text": [
      "Ingredient: rosemary\n"
     ]
    },
    {
     "data": {
      "text/plain": [
       "1"
      ]
     },
     "execution_count": 33,
     "metadata": {},
     "output_type": "execute_result"
    }
   ],
   "source": [
    "ingredients = input('Ingredient: ')\n",
    "\n",
    "ingredients_list = ingredients.split()\n",
    "df2 = pd.DataFrame([[0]*df_vec.shape[1]],columns=df_vec.columns)\n",
    "df2.at[0,ingredients_list]=1\n",
    "y = np.array(df2)\n",
    "y.sum() # sanity check to make sure there are two 1s in the array"
   ]
  },
  {
   "cell_type": "markdown",
   "metadata": {},
   "source": [
    "Cosine Similarity can be used to compare the arrays by measuring the cosine of the angle between the arrays."
   ]
  },
  {
   "cell_type": "code",
   "execution_count": null,
   "metadata": {
    "ExecuteTime": {
     "end_time": "2022-06-01T17:54:44.107131Z",
     "start_time": "2022-06-01T17:54:43.963691Z"
    }
   },
   "outputs": [],
   "source": [
    "# Utilize cosine_similarity from sklearn to return similarity scores based on cosine distance\n",
    "cos_sim = cosine_similarity(df_vec, y,dense_output=True)\n",
    "# Create a dataframe with similairty scores\n",
    "cos_sim = pd.DataFrame(data=cos_sim, index=df_vec.index)\n",
    "cos_sim"
   ]
  },
  {
   "cell_type": "code",
   "execution_count": null,
   "metadata": {
    "ExecuteTime": {
     "end_time": "2022-06-01T17:54:48.090872Z",
     "start_time": "2022-06-01T17:54:48.085683Z"
    }
   },
   "outputs": [],
   "source": [
    "cos_sim.sort_values(by=[0],ascending=False)"
   ]
  },
  {
   "cell_type": "code",
   "execution_count": 45,
   "metadata": {
    "ExecuteTime": {
     "end_time": "2022-06-02T03:06:18.432983Z",
     "start_time": "2022-06-02T03:06:18.419803Z"
    }
   },
   "outputs": [],
   "source": [
    "def recipe_recommend():\n",
    "    \n",
    "    ingredients = input('Ingredient: ')\n",
    "    ingredients_list = ingredients.split()\n",
    "    df2 = pd.DataFrame([[0]*df_vec.shape[1]],columns=df_vec.columns)\n",
    "    df2.at[0,ingredients_list]=1\n",
    "    n_recs = int(input('How many recommendations? '))\n",
    "    \n",
    "    y = np.array(df2)\n",
    "    cos_sim = cosine_similarity(df_vec, y)\n",
    "    cos_sim = pd.DataFrame(data=cos_sim, index=df_vec.index)\n",
    "    cos_sim.sort_values(by = 0, ascending = False, inplace=True)\n",
    "    results = cos_sim.index.values[1:n_recs+1]\n",
    "    results_df = df.loc[results].drop('parsed',axis=1)\n",
    "    results_df.reset_index(inplace=True)\n",
    "    return results_df"
   ]
  },
  {
   "cell_type": "code",
   "execution_count": 46,
   "metadata": {
    "ExecuteTime": {
     "end_time": "2022-06-02T03:06:19.674310Z",
     "start_time": "2022-06-02T03:06:19.665903Z"
    }
   },
   "outputs": [],
   "source": [
    "pd.set_option('display.max_colwidth', None)"
   ]
  },
  {
   "cell_type": "code",
   "execution_count": 55,
   "metadata": {
    "ExecuteTime": {
     "end_time": "2022-06-02T03:11:43.323189Z",
     "start_time": "2022-06-02T03:11:31.626092Z"
    }
   },
   "outputs": [
    {
     "name": "stdout",
     "output_type": "stream",
     "text": [
      "Ingredient: thyme\n",
      "How many recommendations? 3\n"
     ]
    },
    {
     "data": {
      "text/html": [
       "<div>\n",
       "<style scoped>\n",
       "    .dataframe tbody tr th:only-of-type {\n",
       "        vertical-align: middle;\n",
       "    }\n",
       "\n",
       "    .dataframe tbody tr th {\n",
       "        vertical-align: top;\n",
       "    }\n",
       "\n",
       "    .dataframe thead th {\n",
       "        text-align: right;\n",
       "    }\n",
       "</style>\n",
       "<table border=\"1\" class=\"dataframe\">\n",
       "  <thead>\n",
       "    <tr style=\"text-align: right;\">\n",
       "      <th></th>\n",
       "      <th>index</th>\n",
       "      <th>Titles</th>\n",
       "      <th>URL</th>\n",
       "      <th>Ingredients</th>\n",
       "    </tr>\n",
       "  </thead>\n",
       "  <tbody>\n",
       "    <tr>\n",
       "      <th>0</th>\n",
       "      <td>8703</td>\n",
       "      <td>Honeydew Sorbet With Vanilla And Honey</td>\n",
       "      <td>https://cooking.nytimes.com/recipes/9703-honeydew-sorbet-with-vanilla-and-honey</td>\n",
       "      <td>1/4 cup thyme honey 1 vanilla bean, split in half 4 cups honeydew chunks 2 tablespoons lemon juice</td>\n",
       "    </tr>\n",
       "    <tr>\n",
       "      <th>1</th>\n",
       "      <td>4189</td>\n",
       "      <td>Grilled Sea Scallops With Radicchio</td>\n",
       "      <td>https://cooking.nytimes.com/recipes/5189-grilled-sea-scallops-with-radicchio</td>\n",
       "      <td>16 large sea scallops 1 teaspoon fresh thyme (or 1/2 teaspoon dried) 4 tablespoons extra-virgin olive oil 2 heads radicchio Coarse salt and freshly ground pepper to taste 1 lemon cut into quarters 4 sprigs fresh thyme if available</td>\n",
       "    </tr>\n",
       "    <tr>\n",
       "      <th>2</th>\n",
       "      <td>1880</td>\n",
       "      <td>Haricots Dagneau Braised Lamb With Beans</td>\n",
       "      <td>https://cooking.nytimes.com/recipes/2880-haricots-dagneau-braised-lamb-with-beans</td>\n",
       "      <td>1 pound dried lima beans or any small white beans 7 cups water 1 teaspoon dried thyme or 4 sprigs fresh thyme 1 bay leaf 1 medium-size onion stuck with 2 cloves 4 large carrots, trimmed and scraped Salt to taste 3 pounds lean shoulder of lamb, cut into 2-inch cubes, including the bones Salt and freshly ground pepper to taste 1 cup chopped onion 1 tablespoon chopped garlic 1 cup dry white wine 1 cup water 1 28-ounce can crushed tomatoes 1 teaspoon dried thyme or 4 sprigs of fresh thyme 1 bay leaf</td>\n",
       "    </tr>\n",
       "  </tbody>\n",
       "</table>\n",
       "</div>"
      ],
      "text/plain": [
       "   index                                    Titles  \\\n",
       "0   8703    Honeydew Sorbet With Vanilla And Honey   \n",
       "1   4189       Grilled Sea Scallops With Radicchio   \n",
       "2   1880  Haricots Dagneau Braised Lamb With Beans   \n",
       "\n",
       "                                                                                 URL  \\\n",
       "0    https://cooking.nytimes.com/recipes/9703-honeydew-sorbet-with-vanilla-and-honey   \n",
       "1       https://cooking.nytimes.com/recipes/5189-grilled-sea-scallops-with-radicchio   \n",
       "2  https://cooking.nytimes.com/recipes/2880-haricots-dagneau-braised-lamb-with-beans   \n",
       "\n",
       "                                                                                                                                                                                                                                                                                                                                                                                                                                                                                                            Ingredients  \n",
       "0                                                                                                                                                                                                                                                                                                                                                                                                                    1/4 cup thyme honey 1 vanilla bean, split in half 4 cups honeydew chunks 2 tablespoons lemon juice  \n",
       "1                                                                                                                                                                                                                                                                                16 large sea scallops 1 teaspoon fresh thyme (or 1/2 teaspoon dried) 4 tablespoons extra-virgin olive oil 2 heads radicchio Coarse salt and freshly ground pepper to taste 1 lemon cut into quarters 4 sprigs fresh thyme if available  \n",
       "2  1 pound dried lima beans or any small white beans 7 cups water 1 teaspoon dried thyme or 4 sprigs fresh thyme 1 bay leaf 1 medium-size onion stuck with 2 cloves 4 large carrots, trimmed and scraped Salt to taste 3 pounds lean shoulder of lamb, cut into 2-inch cubes, including the bones Salt and freshly ground pepper to taste 1 cup chopped onion 1 tablespoon chopped garlic 1 cup dry white wine 1 cup water 1 28-ounce can crushed tomatoes 1 teaspoon dried thyme or 4 sprigs of fresh thyme 1 bay leaf  "
      ]
     },
     "execution_count": 55,
     "metadata": {},
     "output_type": "execute_result"
    }
   ],
   "source": [
    "recipe_recommend()"
   ]
  },
  {
   "cell_type": "code",
   "execution_count": null,
   "metadata": {
    "ExecuteTime": {
     "end_time": "2022-06-01T17:29:50.973264Z",
     "start_time": "2022-06-01T17:29:50.926651Z"
    }
   },
   "outputs": [],
   "source": [
    "# Instaniate and fit the model using merged dataframe\n",
    "knn = NearestNeighbors(n_neighbors=5)\n",
    "knn.fit(df_vec)\n",
    "# Return results using .kneighbors attribute of knn model\n",
    "n_recs = 5\n",
    "results2 = knn.kneighbors(X=y, n_neighbors=n_recs+1, return_distance=False).flatten()\n",
    "results2 = df.loc[results2].index.values[1:]\n",
    "results2"
   ]
  },
  {
   "cell_type": "code",
   "execution_count": null,
   "metadata": {
    "ExecuteTime": {
     "end_time": "2022-06-01T17:29:54.899863Z",
     "start_time": "2022-06-01T17:29:54.897301Z"
    }
   },
   "outputs": [],
   "source": [
    "def recipe_recommend_knn():\n",
    "    \n",
    "    ingredients = input('Ingredient: ')\n",
    "    ingredients_list = ingredients.split()\n",
    "    df2 = pd.DataFrame([[0]*df_vec.shape[1]],columns=df_vec.columns)\n",
    "    df2.at[0,ingredients_list]=1\n",
    "    n_recs = int(input('How many recommendations? '))\n",
    "    \n",
    "    X = np.array(df2)\n",
    "    results2 = knn.kneighbors(X, n_neighbors=5, return_distance=False).flatten()\n",
    "    results2 = df_vec.iloc[results2].index.values[1:]\n",
    "    results2\n",
    "    results_df = df.loc[results2]\n",
    "    results_df.reset_index(inplace=True)\n",
    "    \n",
    "    return results_df"
   ]
  },
  {
   "cell_type": "code",
   "execution_count": null,
   "metadata": {
    "ExecuteTime": {
     "end_time": "2022-06-01T17:30:04.700567Z",
     "start_time": "2022-06-01T17:29:58.775773Z"
    }
   },
   "outputs": [],
   "source": [
    "recipe_recommend_knn()"
   ]
  },
  {
   "cell_type": "markdown",
   "metadata": {},
   "source": [
    "The knn recommendation system ended up finding blank entries in the data set. I will have to go back and remove the blank rows."
   ]
  },
  {
   "cell_type": "markdown",
   "metadata": {},
   "source": [
    "## Evaluation"
   ]
  },
  {
   "cell_type": "markdown",
   "metadata": {},
   "source": [
    "The KNN methodology was not able to recommend recipes with the given ingredients so the cosine similaity methodology will be the scoreing metric behind the final system. When the KNN method was used it had returned some empty cells that I went back and removed from the data frame. Once that was done, the KNN method was able to return a non-empty set of recipes but the new cleaned data set affected the cosine similarity method to where the parsing of the recipes didn't work so the recommendations didn't include the input ingredients. So the null row were not removed in order to create appropriate recommendations.  "
   ]
  },
  {
   "cell_type": "markdown",
   "metadata": {},
   "source": [
    "## Next Steps\n"
   ]
  },
  {
   "cell_type": "markdown",
   "metadata": {},
   "source": [
    "The next steps for this project would be to refine the NLP methods to reduce the unnecessary words in the recipes. Some options to do this would be to use an already existing data set with ingredients and an API to use as a reference set to find names of common ingredients. Another way would be to implement a predictive model to classify words as a ingredient or not. Once the methods are refined I would like to build an app for this recommendation system."
   ]
  },
  {
   "cell_type": "code",
   "execution_count": null,
   "metadata": {},
   "outputs": [],
   "source": []
  }
 ],
 "metadata": {
  "kernelspec": {
   "display_name": "Python (learn-env)",
   "language": "python",
   "name": "learn-env"
  },
  "language_info": {
   "codemirror_mode": {
    "name": "ipython",
    "version": 3
   },
   "file_extension": ".py",
   "mimetype": "text/x-python",
   "name": "python",
   "nbconvert_exporter": "python",
   "pygments_lexer": "ipython3",
   "version": "3.8.5"
  },
  "varInspector": {
   "cols": {
    "lenName": 16,
    "lenType": 16,
    "lenVar": 40
   },
   "kernels_config": {
    "python": {
     "delete_cmd_postfix": "",
     "delete_cmd_prefix": "del ",
     "library": "var_list.py",
     "varRefreshCmd": "print(var_dic_list())"
    },
    "r": {
     "delete_cmd_postfix": ") ",
     "delete_cmd_prefix": "rm(",
     "library": "var_list.r",
     "varRefreshCmd": "cat(var_dic_list()) "
    }
   },
   "oldHeight": 589.85,
   "position": {
    "height": "611.85px",
    "left": "2114px",
    "right": "20px",
    "top": "137px",
    "width": "611px"
   },
   "types_to_exclude": [
    "module",
    "function",
    "builtin_function_or_method",
    "instance",
    "_Feature"
   ],
   "varInspector_section_display": "block",
   "window_display": true
  }
 },
 "nbformat": 4,
 "nbformat_minor": 4
}
