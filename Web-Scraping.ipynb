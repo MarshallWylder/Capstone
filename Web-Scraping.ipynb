{
 "cells": [
  {
   "cell_type": "code",
   "execution_count": 1,
   "metadata": {
    "ExecuteTime": {
     "end_time": "2022-05-31T12:28:25.081353Z",
     "start_time": "2022-05-31T12:28:24.894846Z"
    }
   },
   "outputs": [],
   "source": [
    "from recipe_scrapers import scrape_me"
   ]
  },
  {
   "cell_type": "code",
   "execution_count": 37,
   "metadata": {
    "ExecuteTime": {
     "end_time": "2022-05-31T12:48:01.506485Z",
     "start_time": "2022-05-31T12:48:01.241514Z"
    }
   },
   "outputs": [],
   "source": [
    "scraper = scrape_me('https://cooking.nytimes.com/recipes/10000')"
   ]
  },
  {
   "cell_type": "code",
   "execution_count": 38,
   "metadata": {
    "ExecuteTime": {
     "end_time": "2022-05-31T12:48:21.383110Z",
     "start_time": "2022-05-31T12:48:21.370797Z"
    }
   },
   "outputs": [
    {
     "data": {
      "text/plain": [
       "['1 (750-milliliter) bottle vodka',\n",
       " '2 stalks lemongrass',\n",
       " '4 makrut lime leaves',\n",
       " '1 ounce simple syrup',\n",
       " '1 ounce fresh lemon juice',\n",
       " '1 (3-inch) piece fresh lemongrass']"
      ]
     },
     "execution_count": 38,
     "metadata": {},
     "output_type": "execute_result"
    }
   ],
   "source": [
    "scraper.ingredients()"
   ]
  },
  {
   "cell_type": "code",
   "execution_count": 36,
   "metadata": {
    "ExecuteTime": {
     "end_time": "2022-05-31T12:39:52.403079Z",
     "start_time": "2022-05-31T12:39:52.390082Z"
    }
   },
   "outputs": [
    {
     "data": {
      "text/plain": [
       "'https://cooking.nytimes.com/recipes/11000-lettuce-soup-with-cucumber-croutons'"
      ]
     },
     "execution_count": 36,
     "metadata": {},
     "output_type": "execute_result"
    }
   ],
   "source": [
    "scraper.canonical_url()"
   ]
  },
  {
   "cell_type": "code",
   "execution_count": null,
   "metadata": {},
   "outputs": [],
   "source": [
    "ingredients = []\n",
    "recipe_names = []\n",
    "for i in list(range(1000, 9023)):\n",
    "    scraper = scrape_me(f'https://cooking.nytimes.com/recipes/{i}')\n",
    "    ingredients.append(scraper.ingredients())\n",
    "    recipe_names.append(scraper.canonical_url())"
   ]
  },
  {
   "cell_type": "code",
   "execution_count": 1,
   "metadata": {
    "ExecuteTime": {
     "end_time": "2022-06-03T17:36:48.879579Z",
     "start_time": "2022-06-03T17:36:48.872549Z"
    }
   },
   "outputs": [],
   "source": [
    "# with open('ingredients.pickle', 'wb') as recipes:\n",
    "#      pickle.dump(ingredients, recipes, pickle.HIGHEST_PROTOCOL)"
   ]
  },
  {
   "cell_type": "code",
   "execution_count": null,
   "metadata": {},
   "outputs": [],
   "source": [
    "# with open('recipe_names.pickle', 'wb') as urls:\n",
    "#      pickle.dump(recipe_names, urls, pickle.HIGHEST_PROTOCOL)"
   ]
  }
 ],
 "metadata": {
  "kernelspec": {
   "display_name": "Python (learn-env)",
   "language": "python",
   "name": "learn-env"
  },
  "language_info": {
   "codemirror_mode": {
    "name": "ipython",
    "version": 3
   },
   "file_extension": ".py",
   "mimetype": "text/x-python",
   "name": "python",
   "nbconvert_exporter": "python",
   "pygments_lexer": "ipython3",
   "version": "3.8.5"
  },
  "varInspector": {
   "cols": {
    "lenName": 16,
    "lenType": 16,
    "lenVar": 40
   },
   "kernels_config": {
    "python": {
     "delete_cmd_postfix": "",
     "delete_cmd_prefix": "del ",
     "library": "var_list.py",
     "varRefreshCmd": "print(var_dic_list())"
    },
    "r": {
     "delete_cmd_postfix": ") ",
     "delete_cmd_prefix": "rm(",
     "library": "var_list.r",
     "varRefreshCmd": "cat(var_dic_list()) "
    }
   },
   "types_to_exclude": [
    "module",
    "function",
    "builtin_function_or_method",
    "instance",
    "_Feature"
   ],
   "window_display": false
  }
 },
 "nbformat": 4,
 "nbformat_minor": 4
}
